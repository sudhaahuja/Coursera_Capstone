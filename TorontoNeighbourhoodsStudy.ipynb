{
 "cells": [
  {
   "cell_type": "markdown",
   "metadata": {},
   "source": [
    "# Segmenting and clustering Toronto Neighbourhoods"
   ]
  },
  {
   "cell_type": "markdown",
   "metadata": {},
   "source": [
    "## Extract the Toronto neighbourhood data from Wikipedia"
   ]
  },
  {
   "cell_type": "code",
   "execution_count": 1,
   "metadata": {},
   "outputs": [],
   "source": [
    "import pandas as pd\n",
    "import numpy as np\n",
    "import urllib.request\n",
    "from pandas.io.html import read_html\n",
    "import geocoder "
   ]
  },
  {
   "cell_type": "code",
   "execution_count": 2,
   "metadata": {},
   "outputs": [],
   "source": [
    "## URL to extract Toronto neighbouroods information\n",
    "url = \"https://en.wikipedia.org/wiki/List_of_postal_codes_of_Canada:_M\"\n",
    "page = urllib.request.urlopen(url)"
   ]
  },
  {
   "cell_type": "code",
   "execution_count": 3,
   "metadata": {
    "scrolled": false
   },
   "outputs": [
    {
     "name": "stdout",
     "output_type": "stream",
     "text": [
      "Extracted 1 wikitables\n"
     ]
    }
   ],
   "source": [
    "wikitables = read_html(url,  attrs={\"class\":\"wikitable\"})\n",
    "print (\"Extracted {num} wikitables\".format(num=len(wikitables)))"
   ]
  },
  {
   "cell_type": "code",
   "execution_count": 4,
   "metadata": {
    "scrolled": false
   },
   "outputs": [],
   "source": [
    "df = wikitables[0]\n",
    "df.columns = df.iloc[0]\n",
    "df = df[1:]"
   ]
  },
  {
   "cell_type": "code",
   "execution_count": null,
   "metadata": {},
   "outputs": [],
   "source": [
    "sel = (df['Borough'] != 'Not assigned')\n",
    "df_sel = df[sel]\n",
    "df_sel.reset_index(drop=True,inplace=True)"
   ]
  },
  {
   "cell_type": "code",
   "execution_count": null,
   "metadata": {},
   "outputs": [
    {
     "data": {
      "text/html": [
       "<div>\n",
       "<style scoped>\n",
       "    .dataframe tbody tr th:only-of-type {\n",
       "        vertical-align: middle;\n",
       "    }\n",
       "\n",
       "    .dataframe tbody tr th {\n",
       "        vertical-align: top;\n",
       "    }\n",
       "\n",
       "    .dataframe thead th {\n",
       "        text-align: right;\n",
       "    }\n",
       "</style>\n",
       "<table border=\"1\" class=\"dataframe\">\n",
       "  <thead>\n",
       "    <tr style=\"text-align: right;\">\n",
       "      <th></th>\n",
       "      <th>Postal Code</th>\n",
       "      <th>Borough</th>\n",
       "      <th>Neighborhood</th>\n",
       "    </tr>\n",
       "  </thead>\n",
       "  <tbody>\n",
       "    <tr>\n",
       "      <th>0</th>\n",
       "      <td>M3A</td>\n",
       "      <td>North York</td>\n",
       "      <td>Parkwoods</td>\n",
       "    </tr>\n",
       "    <tr>\n",
       "      <th>1</th>\n",
       "      <td>M4A</td>\n",
       "      <td>North York</td>\n",
       "      <td>Victoria Village</td>\n",
       "    </tr>\n",
       "    <tr>\n",
       "      <th>2</th>\n",
       "      <td>M5A</td>\n",
       "      <td>Downtown Toronto</td>\n",
       "      <td>Regent Park, Harbourfront</td>\n",
       "    </tr>\n",
       "    <tr>\n",
       "      <th>3</th>\n",
       "      <td>M6A</td>\n",
       "      <td>North York</td>\n",
       "      <td>Lawrence Manor, Lawrence Heights</td>\n",
       "    </tr>\n",
       "    <tr>\n",
       "      <th>4</th>\n",
       "      <td>M7A</td>\n",
       "      <td>Downtown Toronto</td>\n",
       "      <td>Queen's Park, Ontario Provincial Government</td>\n",
       "    </tr>\n",
       "    <tr>\n",
       "      <th>5</th>\n",
       "      <td>M9A</td>\n",
       "      <td>Etobicoke</td>\n",
       "      <td>Islington Avenue, Humber Valley Village</td>\n",
       "    </tr>\n",
       "    <tr>\n",
       "      <th>6</th>\n",
       "      <td>M1B</td>\n",
       "      <td>Scarborough</td>\n",
       "      <td>Malvern, Rouge</td>\n",
       "    </tr>\n",
       "    <tr>\n",
       "      <th>7</th>\n",
       "      <td>M3B</td>\n",
       "      <td>North York</td>\n",
       "      <td>Don Mills</td>\n",
       "    </tr>\n",
       "    <tr>\n",
       "      <th>8</th>\n",
       "      <td>M4B</td>\n",
       "      <td>East York</td>\n",
       "      <td>Parkview Hill, Woodbine Gardens</td>\n",
       "    </tr>\n",
       "    <tr>\n",
       "      <th>9</th>\n",
       "      <td>M5B</td>\n",
       "      <td>Downtown Toronto</td>\n",
       "      <td>Garden District, Ryerson</td>\n",
       "    </tr>\n",
       "  </tbody>\n",
       "</table>\n",
       "</div>"
      ],
      "text/plain": [
       "0 Postal Code           Borough                                 Neighborhood\n",
       "0         M3A        North York                                    Parkwoods\n",
       "1         M4A        North York                             Victoria Village\n",
       "2         M5A  Downtown Toronto                    Regent Park, Harbourfront\n",
       "3         M6A        North York             Lawrence Manor, Lawrence Heights\n",
       "4         M7A  Downtown Toronto  Queen's Park, Ontario Provincial Government\n",
       "5         M9A         Etobicoke      Islington Avenue, Humber Valley Village\n",
       "6         M1B       Scarborough                               Malvern, Rouge\n",
       "7         M3B        North York                                    Don Mills\n",
       "8         M4B         East York              Parkview Hill, Woodbine Gardens\n",
       "9         M5B  Downtown Toronto                     Garden District, Ryerson"
      ]
     },
     "execution_count": 6,
     "metadata": {},
     "output_type": "execute_result"
    }
   ],
   "source": [
    "df_sel.head(10)"
   ]
  },
  {
   "cell_type": "code",
   "execution_count": null,
   "metadata": {},
   "outputs": [
    {
     "data": {
      "text/plain": [
       "(103, 3)"
      ]
     },
     "execution_count": 7,
     "metadata": {},
     "output_type": "execute_result"
    }
   ],
   "source": [
    "df_sel.shape"
   ]
  },
  {
   "cell_type": "markdown",
   "metadata": {},
   "source": [
    "### To check if the Neighbourhood name is same as the Borough name"
   ]
  },
  {
   "cell_type": "code",
   "execution_count": null,
   "metadata": {
    "scrolled": false
   },
   "outputs": [
    {
     "data": {
      "text/html": [
       "<div>\n",
       "<style scoped>\n",
       "    .dataframe tbody tr th:only-of-type {\n",
       "        vertical-align: middle;\n",
       "    }\n",
       "\n",
       "    .dataframe tbody tr th {\n",
       "        vertical-align: top;\n",
       "    }\n",
       "\n",
       "    .dataframe thead th {\n",
       "        text-align: right;\n",
       "    }\n",
       "</style>\n",
       "<table border=\"1\" class=\"dataframe\">\n",
       "  <thead>\n",
       "    <tr style=\"text-align: right;\">\n",
       "      <th></th>\n",
       "      <th>Postal Code</th>\n",
       "      <th>Borough</th>\n",
       "      <th>Neighborhood</th>\n",
       "    </tr>\n",
       "  </thead>\n",
       "  <tbody>\n",
       "    <tr>\n",
       "      <th>32</th>\n",
       "      <td>M1J</td>\n",
       "      <td>Scarborough</td>\n",
       "      <td>Scarborough Village</td>\n",
       "    </tr>\n",
       "    <tr>\n",
       "      <th>35</th>\n",
       "      <td>M4J</td>\n",
       "      <td>East York</td>\n",
       "      <td>East Toronto, Broadview North (Old East York)</td>\n",
       "    </tr>\n",
       "    <tr>\n",
       "      <th>51</th>\n",
       "      <td>M1M</td>\n",
       "      <td>Scarborough</td>\n",
       "      <td>Cliffside, Cliffcrest, Scarborough Village West</td>\n",
       "    </tr>\n",
       "    <tr>\n",
       "      <th>65</th>\n",
       "      <td>M1P</td>\n",
       "      <td>Scarborough</td>\n",
       "      <td>Dorset Park, Wexford Heights, Scarborough Town...</td>\n",
       "    </tr>\n",
       "  </tbody>\n",
       "</table>\n",
       "</div>"
      ],
      "text/plain": [
       "0  Postal Code      Borough                                       Neighborhood\n",
       "32         M1J  Scarborough                                Scarborough Village\n",
       "35         M4J    East York      East Toronto, Broadview North (Old East York)\n",
       "51         M1M  Scarborough    Cliffside, Cliffcrest, Scarborough Village West\n",
       "65         M1P  Scarborough  Dorset Park, Wexford Heights, Scarborough Town..."
      ]
     },
     "execution_count": 8,
     "metadata": {},
     "output_type": "execute_result"
    }
   ],
   "source": [
    "df_common = df_sel.apply(lambda x: x.Borough in x.Neighborhood, axis=1)\n",
    "df_sel[df_common]"
   ]
  },
  {
   "cell_type": "markdown",
   "metadata": {},
   "source": [
    "## To get the latitude and longitude coordinates of each neighbourhood"
   ]
  },
  {
   "cell_type": "code",
   "execution_count": null,
   "metadata": {
    "scrolled": false
   },
   "outputs": [
    {
     "name": "stderr",
     "output_type": "stream",
     "text": [
      "/Users/sahuja/anaconda3/lib/python3.7/site-packages/ipykernel_launcher.py:15: SettingWithCopyWarning: \n",
      "A value is trying to be set on a copy of a slice from a DataFrame.\n",
      "Try using .loc[row_indexer,col_indexer] = value instead\n",
      "\n",
      "See the caveats in the documentation: http://pandas.pydata.org/pandas-docs/stable/indexing.html#indexing-view-versus-copy\n",
      "  from ipykernel import kernelapp as app\n",
      "/Users/sahuja/anaconda3/lib/python3.7/site-packages/ipykernel_launcher.py:16: SettingWithCopyWarning: \n",
      "A value is trying to be set on a copy of a slice from a DataFrame.\n",
      "Try using .loc[row_indexer,col_indexer] = value instead\n",
      "\n",
      "See the caveats in the documentation: http://pandas.pydata.org/pandas-docs/stable/indexing.html#indexing-view-versus-copy\n",
      "  app.launch_new_instance()\n"
     ]
    },
    {
     "data": {
      "text/html": [
       "<div>\n",
       "<style scoped>\n",
       "    .dataframe tbody tr th:only-of-type {\n",
       "        vertical-align: middle;\n",
       "    }\n",
       "\n",
       "    .dataframe tbody tr th {\n",
       "        vertical-align: top;\n",
       "    }\n",
       "\n",
       "    .dataframe thead th {\n",
       "        text-align: right;\n",
       "    }\n",
       "</style>\n",
       "<table border=\"1\" class=\"dataframe\">\n",
       "  <thead>\n",
       "    <tr style=\"text-align: right;\">\n",
       "      <th></th>\n",
       "      <th>Postal Code</th>\n",
       "      <th>Borough</th>\n",
       "      <th>Neighborhood</th>\n",
       "      <th>Latitude</th>\n",
       "      <th>Longitude</th>\n",
       "    </tr>\n",
       "  </thead>\n",
       "  <tbody>\n",
       "    <tr>\n",
       "      <th>0</th>\n",
       "      <td>M3A</td>\n",
       "      <td>North York</td>\n",
       "      <td>Parkwoods</td>\n",
       "      <td>43.753259</td>\n",
       "      <td>-79.329656</td>\n",
       "    </tr>\n",
       "    <tr>\n",
       "      <th>1</th>\n",
       "      <td>M4A</td>\n",
       "      <td>North York</td>\n",
       "      <td>Victoria Village</td>\n",
       "      <td>43.725882</td>\n",
       "      <td>-79.315572</td>\n",
       "    </tr>\n",
       "    <tr>\n",
       "      <th>2</th>\n",
       "      <td>M5A</td>\n",
       "      <td>Downtown Toronto</td>\n",
       "      <td>Regent Park, Harbourfront</td>\n",
       "      <td>43.654260</td>\n",
       "      <td>-79.360636</td>\n",
       "    </tr>\n",
       "    <tr>\n",
       "      <th>3</th>\n",
       "      <td>M6A</td>\n",
       "      <td>North York</td>\n",
       "      <td>Lawrence Manor, Lawrence Heights</td>\n",
       "      <td>43.718518</td>\n",
       "      <td>-79.464763</td>\n",
       "    </tr>\n",
       "    <tr>\n",
       "      <th>4</th>\n",
       "      <td>M7A</td>\n",
       "      <td>Downtown Toronto</td>\n",
       "      <td>Queen's Park, Ontario Provincial Government</td>\n",
       "      <td>43.662301</td>\n",
       "      <td>-79.389494</td>\n",
       "    </tr>\n",
       "    <tr>\n",
       "      <th>5</th>\n",
       "      <td>M9A</td>\n",
       "      <td>Etobicoke</td>\n",
       "      <td>Islington Avenue, Humber Valley Village</td>\n",
       "      <td>43.667856</td>\n",
       "      <td>-79.532242</td>\n",
       "    </tr>\n",
       "    <tr>\n",
       "      <th>6</th>\n",
       "      <td>M1B</td>\n",
       "      <td>Scarborough</td>\n",
       "      <td>Malvern, Rouge</td>\n",
       "      <td>43.806686</td>\n",
       "      <td>-79.194353</td>\n",
       "    </tr>\n",
       "    <tr>\n",
       "      <th>7</th>\n",
       "      <td>M3B</td>\n",
       "      <td>North York</td>\n",
       "      <td>Don Mills</td>\n",
       "      <td>43.745906</td>\n",
       "      <td>-79.352188</td>\n",
       "    </tr>\n",
       "    <tr>\n",
       "      <th>8</th>\n",
       "      <td>M4B</td>\n",
       "      <td>East York</td>\n",
       "      <td>Parkview Hill, Woodbine Gardens</td>\n",
       "      <td>43.706397</td>\n",
       "      <td>-79.309937</td>\n",
       "    </tr>\n",
       "    <tr>\n",
       "      <th>9</th>\n",
       "      <td>M5B</td>\n",
       "      <td>Downtown Toronto</td>\n",
       "      <td>Garden District, Ryerson</td>\n",
       "      <td>43.657162</td>\n",
       "      <td>-79.378937</td>\n",
       "    </tr>\n",
       "  </tbody>\n",
       "</table>\n",
       "</div>"
      ],
      "text/plain": [
       "0 Postal Code           Borough                                 Neighborhood  \\\n",
       "0         M3A        North York                                    Parkwoods   \n",
       "1         M4A        North York                             Victoria Village   \n",
       "2         M5A  Downtown Toronto                    Regent Park, Harbourfront   \n",
       "3         M6A        North York             Lawrence Manor, Lawrence Heights   \n",
       "4         M7A  Downtown Toronto  Queen's Park, Ontario Provincial Government   \n",
       "5         M9A         Etobicoke      Islington Avenue, Humber Valley Village   \n",
       "6         M1B       Scarborough                               Malvern, Rouge   \n",
       "7         M3B        North York                                    Don Mills   \n",
       "8         M4B         East York              Parkview Hill, Woodbine Gardens   \n",
       "9         M5B  Downtown Toronto                     Garden District, Ryerson   \n",
       "\n",
       "0   Latitude  Longitude  \n",
       "0  43.753259 -79.329656  \n",
       "1  43.725882 -79.315572  \n",
       "2  43.654260 -79.360636  \n",
       "3  43.718518 -79.464763  \n",
       "4  43.662301 -79.389494  \n",
       "5  43.667856 -79.532242  \n",
       "6  43.806686 -79.194353  \n",
       "7  43.745906 -79.352188  \n",
       "8  43.706397 -79.309937  \n",
       "9  43.657162 -79.378937  "
      ]
     },
     "execution_count": 9,
     "metadata": {},
     "output_type": "execute_result"
    }
   ],
   "source": [
    "dfGeo = pd.read_csv('Geospatial_Coordinates.csv')\n",
    "\n",
    "lat_coords = []\n",
    "lng_coords = []\n",
    "\n",
    "for (index, row) in df_sel['Postal Code'].iteritems():\n",
    "    postalcode = row\n",
    "    lat_lng_coords = None\n",
    "    # loop until you get the coordinates\n",
    "    for (index1, row1) in dfGeo['Postal Code'].iteritems():\n",
    "        if(row1 == postalcode):\n",
    "            lat_coords.append(dfGeo['Latitude'].iloc[index1])\n",
    "            lng_coords.append(dfGeo['Longitude'].iloc[index1])\n",
    "            \n",
    "df_sel['Latitude'] = lat_coords\n",
    "df_sel['Longitude'] = lng_coords\n",
    "df_sel.head(10)"
   ]
  },
  {
   "cell_type": "markdown",
   "metadata": {},
   "source": [
    "## Exploring the neighbourhoods"
   ]
  },
  {
   "cell_type": "markdown",
   "metadata": {},
   "source": [
    "### Look at the neighbouhoods on a map"
   ]
  },
  {
   "cell_type": "code",
   "execution_count": null,
   "metadata": {},
   "outputs": [],
   "source": [
    "#!conda install -c conda-forge geopy --yes # uncomment this line if you haven't completed the Foursquare API lab\n",
    "from geopy.geocoders import Nominatim # convert an address into latitude and longitude values\n",
    "\n",
    "import requests # library to handle requests\n",
    "from pandas.io.json import json_normalize # tranform JSON file into a pandas dataframe\n",
    "\n",
    "# Matplotlib and associated plotting modules\n",
    "import matplotlib.cm as cm\n",
    "import matplotlib.colors as colors\n",
    "\n",
    "# import k-means from clustering stage\n",
    "from sklearn.cluster import KMeans\n",
    "\n",
    "#!conda install -c conda-forge folium=0.5.0 --yes # uncomment this line if you haven't completed the Foursquare API lab\n",
    "import folium # map rendering library"
   ]
  },
  {
   "cell_type": "code",
   "execution_count": null,
   "metadata": {},
   "outputs": [
    {
     "name": "stdout",
     "output_type": "stream",
     "text": [
      "The geograpical coordinate of Toronto City are 43.6534817, -79.3839347.\n"
     ]
    }
   ],
   "source": [
    "address = 'Toronto, Ontario'\n",
    "\n",
    "geolocator = Nominatim(user_agent=\"tr_explorer\")\n",
    "location = geolocator.geocode(address)\n",
    "latitude_toronto = location.latitude\n",
    "longitude_toronto = location.longitude\n",
    "print('The geograpical coordinate of Toronto City are {}, {}.'.format(latitude_toronto, longitude_toronto))"
   ]
  },
  {
   "cell_type": "code",
   "execution_count": null,
   "metadata": {},
   "outputs": [],
   "source": [
    "# create map of Toronto using latitude and longitude values\n",
    "#map_toronto = folium.Map(location=[latitude_toronto, longitude_toronto], zoom_start=10)\n",
    "# add markers to map\n",
    "#for lat, lng, borough, neighborhood in zip(df_sel['Latitude'], df_sel['Longitude'], df_sel['Borough'], df_sel['Neighborhood']):\n",
    "#    label = '{}, {}'.format(neighborhood, borough)\n",
    "#    label = folium.Popup(label, parse_html=True)\n",
    "#    folium.CircleMarker(\n",
    "#        [lat, lng],\n",
    "#        radius=5,\n",
    "#        popup=label,\n",
    "#        color='blue',\n",
    "#        fill=True,\n",
    "#        fill_color='#3186cc',\n",
    "#        fill_opacity=0.7,\n",
    "#        parse_html=False).add_to(map_toronto)     \n",
    "#map_toronto"
   ]
  },
  {
   "cell_type": "markdown",
   "metadata": {},
   "source": [
    "### Select and map neighbourhoods inside Toronto only"
   ]
  },
  {
   "cell_type": "code",
   "execution_count": null,
   "metadata": {},
   "outputs": [
    {
     "data": {
      "text/html": [
       "<div>\n",
       "<style scoped>\n",
       "    .dataframe tbody tr th:only-of-type {\n",
       "        vertical-align: middle;\n",
       "    }\n",
       "\n",
       "    .dataframe tbody tr th {\n",
       "        vertical-align: top;\n",
       "    }\n",
       "\n",
       "    .dataframe thead th {\n",
       "        text-align: right;\n",
       "    }\n",
       "</style>\n",
       "<table border=\"1\" class=\"dataframe\">\n",
       "  <thead>\n",
       "    <tr style=\"text-align: right;\">\n",
       "      <th></th>\n",
       "      <th>Postal Code</th>\n",
       "      <th>Borough</th>\n",
       "      <th>Neighborhood</th>\n",
       "      <th>Latitude</th>\n",
       "      <th>Longitude</th>\n",
       "    </tr>\n",
       "  </thead>\n",
       "  <tbody>\n",
       "    <tr>\n",
       "      <th>0</th>\n",
       "      <td>M5A</td>\n",
       "      <td>Downtown Toronto</td>\n",
       "      <td>Regent Park, Harbourfront</td>\n",
       "      <td>43.654260</td>\n",
       "      <td>-79.360636</td>\n",
       "    </tr>\n",
       "    <tr>\n",
       "      <th>1</th>\n",
       "      <td>M7A</td>\n",
       "      <td>Downtown Toronto</td>\n",
       "      <td>Queen's Park, Ontario Provincial Government</td>\n",
       "      <td>43.662301</td>\n",
       "      <td>-79.389494</td>\n",
       "    </tr>\n",
       "    <tr>\n",
       "      <th>2</th>\n",
       "      <td>M5B</td>\n",
       "      <td>Downtown Toronto</td>\n",
       "      <td>Garden District, Ryerson</td>\n",
       "      <td>43.657162</td>\n",
       "      <td>-79.378937</td>\n",
       "    </tr>\n",
       "    <tr>\n",
       "      <th>3</th>\n",
       "      <td>M5C</td>\n",
       "      <td>Downtown Toronto</td>\n",
       "      <td>St. James Town</td>\n",
       "      <td>43.651494</td>\n",
       "      <td>-79.375418</td>\n",
       "    </tr>\n",
       "    <tr>\n",
       "      <th>4</th>\n",
       "      <td>M4E</td>\n",
       "      <td>East Toronto</td>\n",
       "      <td>The Beaches</td>\n",
       "      <td>43.676357</td>\n",
       "      <td>-79.293031</td>\n",
       "    </tr>\n",
       "    <tr>\n",
       "      <th>5</th>\n",
       "      <td>M5E</td>\n",
       "      <td>Downtown Toronto</td>\n",
       "      <td>Berczy Park</td>\n",
       "      <td>43.644771</td>\n",
       "      <td>-79.373306</td>\n",
       "    </tr>\n",
       "    <tr>\n",
       "      <th>6</th>\n",
       "      <td>M5G</td>\n",
       "      <td>Downtown Toronto</td>\n",
       "      <td>Central Bay Street</td>\n",
       "      <td>43.657952</td>\n",
       "      <td>-79.387383</td>\n",
       "    </tr>\n",
       "    <tr>\n",
       "      <th>7</th>\n",
       "      <td>M6G</td>\n",
       "      <td>Downtown Toronto</td>\n",
       "      <td>Christie</td>\n",
       "      <td>43.669542</td>\n",
       "      <td>-79.422564</td>\n",
       "    </tr>\n",
       "    <tr>\n",
       "      <th>8</th>\n",
       "      <td>M5H</td>\n",
       "      <td>Downtown Toronto</td>\n",
       "      <td>Richmond, Adelaide, King</td>\n",
       "      <td>43.650571</td>\n",
       "      <td>-79.384568</td>\n",
       "    </tr>\n",
       "    <tr>\n",
       "      <th>9</th>\n",
       "      <td>M6H</td>\n",
       "      <td>West Toronto</td>\n",
       "      <td>Dufferin, Dovercourt Village</td>\n",
       "      <td>43.669005</td>\n",
       "      <td>-79.442259</td>\n",
       "    </tr>\n",
       "  </tbody>\n",
       "</table>\n",
       "</div>"
      ],
      "text/plain": [
       "0 Postal Code           Borough                                 Neighborhood  \\\n",
       "0         M5A  Downtown Toronto                    Regent Park, Harbourfront   \n",
       "1         M7A  Downtown Toronto  Queen's Park, Ontario Provincial Government   \n",
       "2         M5B  Downtown Toronto                     Garden District, Ryerson   \n",
       "3         M5C  Downtown Toronto                               St. James Town   \n",
       "4         M4E      East Toronto                                  The Beaches   \n",
       "5         M5E  Downtown Toronto                                  Berczy Park   \n",
       "6         M5G  Downtown Toronto                           Central Bay Street   \n",
       "7         M6G  Downtown Toronto                                     Christie   \n",
       "8         M5H  Downtown Toronto                     Richmond, Adelaide, King   \n",
       "9         M6H      West Toronto                 Dufferin, Dovercourt Village   \n",
       "\n",
       "0   Latitude  Longitude  \n",
       "0  43.654260 -79.360636  \n",
       "1  43.662301 -79.389494  \n",
       "2  43.657162 -79.378937  \n",
       "3  43.651494 -79.375418  \n",
       "4  43.676357 -79.293031  \n",
       "5  43.644771 -79.373306  \n",
       "6  43.657952 -79.387383  \n",
       "7  43.669542 -79.422564  \n",
       "8  43.650571 -79.384568  \n",
       "9  43.669005 -79.442259  "
      ]
     },
     "execution_count": 13,
     "metadata": {},
     "output_type": "execute_result"
    }
   ],
   "source": [
    "df_toronto = df_sel[df_sel['Borough'].str.contains(\"Toronto\")].reset_index(drop=True)\n",
    "df_toronto.head(10)"
   ]
  },
  {
   "cell_type": "code",
   "execution_count": null,
   "metadata": {},
   "outputs": [
    {
     "data": {
      "text/html": [
       "<div style=\"width:100%;\"><div style=\"position:relative;width:100%;height:0;padding-bottom:60%;\"><span style=\"color:#565656\">Make this Notebook Trusted to load map: File -> Trust Notebook</span><iframe src=\"about:blank\" style=\"position:absolute;width:100%;height:100%;left:0;top:0;border:none !important;\" data-html=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 onload=\"this.contentDocument.open();this.contentDocument.write(atob(this.getAttribute('data-html')));this.contentDocument.close();\" allowfullscreen webkitallowfullscreen mozallowfullscreen></iframe></div></div>"
      ],
      "text/plain": [
       "<folium.folium.Map at 0x7f918f334ac8>"
      ]
     },
     "execution_count": 14,
     "metadata": {},
     "output_type": "execute_result"
    }
   ],
   "source": [
    "# create map of Manhattan using latitude and longitude values\n",
    "map_torontoNeighborhoods = folium.Map(location=[latitude_toronto, longitude_toronto], zoom_start=11)\n",
    "\n",
    "# add markers to map\n",
    "for lat, lng, label in zip(df_toronto['Latitude'], df_toronto['Longitude'], df_toronto['Neighborhood']):\n",
    "    label = folium.Popup(label, parse_html=True)\n",
    "    folium.CircleMarker(\n",
    "        [lat, lng],\n",
    "        radius=5,\n",
    "        popup=label,\n",
    "        color='blue',\n",
    "        fill=True,\n",
    "        fill_color='#3186cc',\n",
    "        fill_opacity=0.7,\n",
    "        parse_html=False).add_to(map_torontoNeighborhoods)  \n",
    "    \n",
    "map_torontoNeighborhoods"
   ]
  },
  {
   "cell_type": "markdown",
   "metadata": {},
   "source": [
    "### Using foursquare to get the detailed information about a neighbourhood"
   ]
  },
  {
   "cell_type": "code",
   "execution_count": null,
   "metadata": {},
   "outputs": [
    {
     "name": "stdout",
     "output_type": "stream",
     "text": [
      "Your credentails:\n",
      "CLIENT_ID: EO0KBHDR2ZELDZ45YPHB00KM4NNKRS0A53NT1VKOKIME1URK\n",
      "CLIENT_SECRET:5AGXFUFRK5P4PO0KMDDFOTDWM11XYDJA0HERBX3UKTZHT5QH\n"
     ]
    }
   ],
   "source": [
    "CLIENT_ID = 'EO0KBHDR2ZELDZ45YPHB00KM4NNKRS0A53NT1VKOKIME1URK' # your Foursquare ID\n",
    "CLIENT_SECRET = '5AGXFUFRK5P4PO0KMDDFOTDWM11XYDJA0HERBX3UKTZHT5QH' # your Foursquare Secret\n",
    "VERSION = '20180605' # Foursquare API version\n",
    "\n",
    "print('Your credentails:')\n",
    "print('CLIENT_ID: ' + CLIENT_ID)\n",
    "print('CLIENT_SECRET:' + CLIENT_SECRET)"
   ]
  },
  {
   "cell_type": "markdown",
   "metadata": {},
   "source": [
    "### Exploring each of the neighbourhoods in our Toronto selected dataframe. Looking at the type of venues around each location."
   ]
  },
  {
   "cell_type": "code",
   "execution_count": null,
   "metadata": {},
   "outputs": [],
   "source": [
    "LIMIT = 100 # limit of number of venues returned by Foursquare API\n",
    "radius = 500 # define radius\n",
    "\n",
    "def getNearbyVenues(names, latitudes, longitudes, radius=500):\n",
    "    \n",
    "    venues_list=[]\n",
    "    for name, lat, lng in zip(names, latitudes, longitudes):\n",
    "        print(name)\n",
    "            \n",
    "        # create the API request URL\n",
    "        url = 'https://api.foursquare.com/v2/venues/explore?&client_id={}&client_secret={}&v={}&ll={},{}&radius={}&limit={}'.format(\n",
    "            CLIENT_ID, \n",
    "            CLIENT_SECRET, \n",
    "            VERSION, \n",
    "            lat, \n",
    "            lng, \n",
    "            radius, \n",
    "            LIMIT)\n",
    "            \n",
    "        # make the GET request\n",
    "        results = requests.get(url).json()[\"response\"]['groups'][0]['items']\n",
    "        \n",
    "        # return only relevant information for each nearby venue\n",
    "        venues_list.append([(\n",
    "            name, \n",
    "            lat, \n",
    "            lng, \n",
    "            v['venue']['name'], \n",
    "            v['venue']['location']['lat'], \n",
    "            v['venue']['location']['lng'],  \n",
    "            v['venue']['categories'][0]['name']) for v in results])\n",
    "\n",
    "    nearby_venues = pd.DataFrame([item for venue_list in venues_list for item in venue_list])\n",
    "    nearby_venues.columns = ['Neighborhood', \n",
    "                  'Neighborhood Latitude', \n",
    "                  'Neighborhood Longitude', \n",
    "                  'Venue', \n",
    "                  'Venue Latitude', \n",
    "                  'Venue Longitude', \n",
    "                  'Venue Category']\n",
    "    \n",
    "    return(nearby_venues)"
   ]
  },
  {
   "cell_type": "code",
   "execution_count": null,
   "metadata": {},
   "outputs": [
    {
     "name": "stdout",
     "output_type": "stream",
     "text": [
      "Regent Park, Harbourfront\n",
      "Queen's Park, Ontario Provincial Government\n",
      "Garden District, Ryerson\n",
      "St. James Town\n",
      "The Beaches\n",
      "Berczy Park\n",
      "Central Bay Street\n",
      "Christie\n",
      "Richmond, Adelaide, King\n",
      "Dufferin, Dovercourt Village\n",
      "Harbourfront East, Union Station, Toronto Islands\n",
      "Little Portugal, Trinity\n",
      "The Danforth West, Riverdale\n"
     ]
    }
   ],
   "source": [
    "toronto_venues = getNearbyVenues(names=df_toronto['Neighborhood'],\n",
    "                                   latitudes=df_toronto['Latitude'],\n",
    "                                   longitudes=df_toronto['Longitude']\n",
    "                                  )"
   ]
  },
  {
   "cell_type": "code",
   "execution_count": null,
   "metadata": {},
   "outputs": [],
   "source": [
    "print(toronto_venues.shape)\n",
    "print('There are {} uniques categories.'.format(len(toronto_venues['Venue Category'].unique())))"
   ]
  },
  {
   "cell_type": "markdown",
   "metadata": {},
   "source": [
    "### Mapping each venue category into a dataframe column"
   ]
  },
  {
   "cell_type": "code",
   "execution_count": null,
   "metadata": {},
   "outputs": [],
   "source": [
    "# one hot encoding\n",
    "toronto_onehot = pd.get_dummies(toronto_venues[['Venue Category']], prefix=\"\", prefix_sep=\"\")\n",
    "\n",
    "# add neighborhood column back to dataframe\n",
    "toronto_onehot['Neighborhood'] = toronto_venues['Neighborhood'] \n",
    "\n",
    "# move neighborhood column to the first column\n",
    "fixed_columns = [toronto_onehot.columns[-1]] + list(toronto_onehot.columns[:-1])\n",
    "toronto_onehot = toronto_onehot[fixed_columns]\n",
    "\n",
    "toronto_onehot.head()"
   ]
  },
  {
   "cell_type": "markdown",
   "metadata": {},
   "source": [
    "#### Lets look at the mean of the frequency of occurrence of each category & then see the top occuring venues in each neighbourhood"
   ]
  },
  {
   "cell_type": "code",
   "execution_count": null,
   "metadata": {},
   "outputs": [],
   "source": [
    "toronto_grouped = toronto_onehot.groupby('Neighborhood').mean().reset_index()"
   ]
  },
  {
   "cell_type": "code",
   "execution_count": null,
   "metadata": {},
   "outputs": [],
   "source": [
    "def return_most_common_venues(row, num_top_venues):\n",
    "    row_categories = row.iloc[1:]\n",
    "    row_categories_sorted = row_categories.sort_values(ascending=False)\n",
    "    \n",
    "    return row_categories_sorted.index.values[0:num_top_venues]"
   ]
  },
  {
   "cell_type": "code",
   "execution_count": null,
   "metadata": {},
   "outputs": [],
   "source": [
    "num_top_venues = 10\n",
    "\n",
    "indicators = ['st', 'nd', 'rd']\n",
    "\n",
    "# create columns according to number of top venues\n",
    "columns = ['Neighborhood']\n",
    "for ind in np.arange(num_top_venues):\n",
    "    try:\n",
    "        columns.append('{}{} Most Common Venue'.format(ind+1, indicators[ind]))\n",
    "    except:\n",
    "        columns.append('{}th Most Common Venue'.format(ind+1))\n",
    "\n",
    "# create a new dataframe\n",
    "neighborhoods_venues_sorted = pd.DataFrame(columns=columns)\n",
    "neighborhoods_venues_sorted['Neighborhood'] = toronto_grouped['Neighborhood']\n",
    "\n",
    "for ind in np.arange(toronto_grouped.shape[0]):\n",
    "    neighborhoods_venues_sorted.iloc[ind, 1:] = return_most_common_venues(toronto_grouped.iloc[ind, :], num_top_venues)\n",
    "\n",
    "neighborhoods_venues_sorted.head()"
   ]
  },
  {
   "cell_type": "markdown",
   "metadata": {},
   "source": [
    "### Clustering analysis of neighbourhoods. Using k-means, clustering neighbourhoods into 3 categories."
   ]
  },
  {
   "cell_type": "code",
   "execution_count": null,
   "metadata": {},
   "outputs": [],
   "source": [
    "# set number of clusters\n",
    "kclusters = 3\n",
    "\n",
    "toronto_grouped_clustering = toronto_grouped.drop('Neighborhood', 1)\n",
    "\n",
    "# run k-means clustering\n",
    "kmeans = KMeans(n_clusters=kclusters, random_state=0).fit(toronto_grouped_clustering)\n",
    "\n",
    "# check cluster labels generated for each row in the dataframe\n",
    "kmeans.labels_[0:10] "
   ]
  },
  {
   "cell_type": "code",
   "execution_count": null,
   "metadata": {},
   "outputs": [],
   "source": [
    "# add clustering labels\n",
    "neighborhoods_venues_sorted.insert(0, 'Cluster Labels', kmeans.labels_)\n",
    "\n",
    "toronto_merged = df_toronto\n",
    "\n",
    "# merge toronto_grouped with toronto_data to add latitude/longitude for each neighborhood\n",
    "toronto_merged = toronto_merged.join(neighborhoods_venues_sorted.set_index('Neighborhood'), on='Neighborhood')\n",
    "\n",
    "toronto_merged.head() # check the last columns!"
   ]
  },
  {
   "cell_type": "code",
   "execution_count": null,
   "metadata": {},
   "outputs": [],
   "source": [
    "# create map\n",
    "map_clusters = folium.Map(location=[latitude_toronto, longitude_toronto], zoom_start=11)\n",
    "\n",
    "# set color scheme for the clusters\n",
    "x = np.arange(kclusters)\n",
    "ys = [i + x + (i*x)**2 for i in range(kclusters)]\n",
    "colors_array = cm.rainbow(np.linspace(0, 1, len(ys)))\n",
    "rainbow = [colors.rgb2hex(i) for i in colors_array]\n",
    "\n",
    "# add markers to the map\n",
    "markers_colors = []\n",
    "for lat, lon, poi, cluster in zip(toronto_merged['Latitude'], toronto_merged['Longitude'], toronto_merged['Neighborhood'], toronto_merged['Cluster Labels']):\n",
    "    label = folium.Popup(str(poi) + ' Cluster ' + str(cluster), parse_html=True)\n",
    "    folium.CircleMarker(\n",
    "        [lat, lon],\n",
    "        radius=5,\n",
    "        popup=label,\n",
    "        color=rainbow[cluster-1],\n",
    "        fill=True,\n",
    "        fill_color=rainbow[cluster-1],\n",
    "        fill_opacity=0.7).add_to(map_clusters)\n",
    "       \n",
    "map_clusters"
   ]
  },
  {
   "cell_type": "code",
   "execution_count": null,
   "metadata": {},
   "outputs": [],
   "source": [
    "toronto_merged.loc[toronto_merged['Cluster Labels'] == 0, toronto_merged.columns[[1] + list(range(5, toronto_merged.shape[1]))]]"
   ]
  },
  {
   "cell_type": "code",
   "execution_count": null,
   "metadata": {},
   "outputs": [],
   "source": []
  }
 ],
 "metadata": {
  "kernelspec": {
   "display_name": "Python 3",
   "language": "python",
   "name": "python3"
  },
  "language_info": {
   "codemirror_mode": {
    "name": "ipython",
    "version": 3
   },
   "file_extension": ".py",
   "mimetype": "text/x-python",
   "name": "python",
   "nbconvert_exporter": "python",
   "pygments_lexer": "ipython3",
   "version": "3.7.3"
  }
 },
 "nbformat": 4,
 "nbformat_minor": 2
}
